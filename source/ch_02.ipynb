{
 "cells": [
  {
   "cell_type": "code",
   "execution_count": 1,
   "id": "0d92a704-add1-4198-b62d-b102385da70a",
   "metadata": {},
   "outputs": [
    {
     "name": "stdout",
     "output_type": "stream",
     "text": [
      "==============================[이미지 저장]==============================\n",
      "==============================[이미지 저장]==============================\n"
     ]
    }
   ],
   "source": [
    "import requests\n",
    "\n",
    "def get_image(url, FileName) :\n",
    "    img_response = requests.get(url)\n",
    "    \n",
    "    if img_response.status_code == 200 :\n",
    "        #print(img_response.content)\n",
    "        print(\"=\" * 30 + \"[이미지 저장]\" + \"=\" * 30)\n",
    "        file = \"./output/\" + FileName\n",
    "        with open(file, \"wb\") as fp :\n",
    "            fp.write(img_response.content)\n",
    "            \n",
    "url = \"https://search1.kakaocdn.net/argon/600x0_65_wr/ImZk3b2X1w8\"\n",
    "get_image(url, \"펭수1.jpg\")\n",
    "\n",
    "url = \"https://img.hankyung.com/photo/201912/01.21302999.1.jpg\"\n",
    "get_image(url, \"펭수2.jpg\")"
   ]
  }
 ],
 "metadata": {
  "kernelspec": {
   "display_name": "Python 3 (ipykernel)",
   "language": "python",
   "name": "python3"
  },
  "language_info": {
   "codemirror_mode": {
    "name": "ipython",
    "version": 3
   },
   "file_extension": ".py",
   "mimetype": "text/x-python",
   "name": "python",
   "nbconvert_exporter": "python",
   "pygments_lexer": "ipython3",
   "version": "3.9.13"
  }
 },
 "nbformat": 4,
 "nbformat_minor": 5
}
