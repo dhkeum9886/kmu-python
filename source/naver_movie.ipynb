{
 "cells": [
  {
   "cell_type": "code",
   "execution_count": 9,
   "id": "cfbb4aee-310b-464a-af12-b297d0322d76",
   "metadata": {},
   "outputs": [
    {
     "name": "stdout",
     "output_type": "stream",
     "text": [
      "Requirement already satisfied: bs4 in /opt/conda/lib/python3.9/site-packages (0.0.2)\n",
      "Requirement already satisfied: beautifulsoup4 in /opt/conda/lib/python3.9/site-packages (from bs4) (4.11.1)\n",
      "Requirement already satisfied: soupsieve>1.2 in /opt/conda/lib/python3.9/site-packages (from beautifulsoup4->bs4) (2.3.2.post1)\n",
      "\u001b[33mWARNING: Error parsing dependencies of bleach: Expected matching RIGHT_PARENTHESIS for LEFT_PARENTHESIS, after version specifier\n",
      "    tinycss2 (>=1.1.0<1.2) ; extra == 'css'\n",
      "             ~~~~~~~~^\u001b[0m\u001b[33m\n",
      "\u001b[0mNote: you may need to restart the kernel to use updated packages.\n"
     ]
    }
   ],
   "source": [
    "pip install bs4"
   ]
  },
  {
   "cell_type": "code",
   "execution_count": 10,
   "id": "1c76f8ac-4b7b-41eb-8925-a8ef3d58e241",
   "metadata": {},
   "outputs": [
    {
     "name": "stdout",
     "output_type": "stream",
     "text": [
      "Requirement already satisfied: lxml in /opt/conda/lib/python3.9/site-packages (4.8.0)\n",
      "\u001b[33mWARNING: Error parsing dependencies of bleach: Expected matching RIGHT_PARENTHESIS for LEFT_PARENTHESIS, after version specifier\n",
      "    tinycss2 (>=1.1.0<1.2) ; extra == 'css'\n",
      "             ~~~~~~~~^\u001b[0m\u001b[33m\n",
      "\u001b[0mNote: you may need to restart the kernel to use updated packages.\n"
     ]
    }
   ],
   "source": [
    "pip install lxml"
   ]
  },
  {
   "cell_type": "code",
   "execution_count": 24,
   "id": "a4b0a026-83e5-4d04-ba13-5f2db83f674f",
   "metadata": {},
   "outputs": [
    {
     "name": "stdout",
     "output_type": "stream",
     "text": [
      "<ul class=\"area_card_outer _item_wrapper\"> </ul>\n",
      "[]\n"
     ]
    }
   ],
   "source": [
    "import requests\n",
    "from bs4 import BeautifulSoup\n",
    "\n",
    "# '트롤'의 네이버 영화 리뷰 링크\n",
    "# url = \"https://movie.naver.com/movie/bi/mi/review.nhn?code=191633\"\n",
    "url = \"https://search.naver.com/search.naver?where=nexearch&sm=tab_etc&mra=bkEw&pkid=68&os=11804367&qvt=0&query=%ED%8A%B8%EB%A1%A4%3A%20%EC%9B%94%EB%93%9C%20%ED%88%AC%EC%96%B4%20%ED%8F%89%EC%A0%90\"\n",
    "\n",
    "headers = {\n",
    "    \"User-Agent\": \"Mozilla/5.0 (Windows NT 10.0; Win64; x64) AppleWebKit/537.36 \"\n",
    "                  \"(KHTML, like Gecko) Chrome/141.0.0.0 Safari/537.36\"\n",
    "}\n",
    "\n",
    "# html 소스 가져오기\n",
    "res = requests.get(url, headers=headers)\n",
    "\n",
    "# html 파싱\n",
    "soup = BeautifulSoup(res.text, \"lxml\")\n",
    "\n",
    "# 리뷰 리스트 (ul 태그 찾기)\n",
    "ul = soup.select_one(\"ul.area_card_outer._item_wrapper\")\n",
    "print(ul)\n",
    "\n",
    "if ul:\n",
    "    # li 태그들 선택\n",
    "    lis = ul.select(\"li.area_card._item\")\n",
    "    print(lis)\n",
    "    for i, li in enumerate(lis, 1):\n",
    "        print(f\"[리뷰 {i}] {li.get_text(strip=True)}\")\n",
    "else:\n",
    "    print(\"ul 태그를 찾지 못했습니다.\")\n",
    "\n",
    "# lis = ul.find_all('li')\n",
    "\n",
    "# # 리뷰 제목 출력\n",
    "# count=0\n",
    "# for li in lis:\n",
    "#     count += 1\n",
    "#     print(f\"[{count}th] \", li.a.string)"
   ]
  }
 ],
 "metadata": {
  "kernelspec": {
   "display_name": "Python 3 (ipykernel)",
   "language": "python",
   "name": "python3"
  },
  "language_info": {
   "codemirror_mode": {
    "name": "ipython",
    "version": 3
   },
   "file_extension": ".py",
   "mimetype": "text/x-python",
   "name": "python",
   "nbconvert_exporter": "python",
   "pygments_lexer": "ipython3",
   "version": "3.9.13"
  }
 },
 "nbformat": 4,
 "nbformat_minor": 5
}
